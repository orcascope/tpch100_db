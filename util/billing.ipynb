{
 "cells": [
  {
   "cell_type": "code",
   "execution_count": 0,
   "metadata": {
    "application/vnd.databricks.v1+cell": {
     "cellMetadata": {},
     "inputWidgets": {},
     "nuid": "3a96c36d-9e9d-401f-807e-7b737f181ddd",
     "showTitle": false,
     "tableResultSettingsMap": {},
     "title": ""
    }
   },
   "outputs": [],
   "source": [
    "%sql\n",
    "SELECT\n",
    "  run_id,\n",
    "  period_start_time,\n",
    "  sku_name,\n",
    "  billing_origin_product,\n",
    "  usage_date,\n",
    "  SUM(usage_quantity) AS `DBUs`,\n",
    "  elapsed_run_minutes\n",
    "FROM\n",
    "  system.billing.usage u\n",
    "  join (select run_id, timestampdiff(MINUTE, period_start_time, period_end_time) as       elapsed_run_minutes, result_state, period_start_time,\n",
    "        job_parameters['PROFILE']['value'] as run_name\n",
    "        from system.lakeflow.job_run_timeline) jrl \n",
    "      on jrl.run_id  = u.usage_metadata.job_run_id\n",
    "WHERE\n",
    "  run_name in ('batch_aggr', 'batch_ingest')\n",
    "  --and result_state = 'SUCCEEDED' \n",
    "GROUP BY ALL;"
   ]
  }
 ],
 "metadata": {
  "application/vnd.databricks.v1+notebook": {
   "computePreferences": null,
   "dashboards": [],
   "environmentMetadata": {
    "base_environment": "",
    "environment_version": "4"
   },
   "inputWidgetPreferences": null,
   "language": "python",
   "notebookMetadata": {
    "pythonIndentUnit": 4
   },
   "notebookName": "billing",
   "widgets": {}
  },
  "language_info": {
   "name": "python"
  }
 },
 "nbformat": 4,
 "nbformat_minor": 0
}
