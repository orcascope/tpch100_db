{
 "cells": [
  {
   "cell_type": "code",
   "execution_count": 0,
   "metadata": {
    "application/vnd.databricks.v1+cell": {
     "cellMetadata": {},
     "inputWidgets": {},
     "nuid": "df1ccbfd-f06f-43ad-8852-c6bb371269ca",
     "showTitle": false,
     "tableResultSettingsMap": {},
     "title": ""
    }
   },
   "outputs": [],
   "source": [
    "dbutils.widgets.text(\"CATALOG\", \"default\")\n",
    "dbutils.widgets.text(\"SCHEMA\", \"default\")\n",
    "dbutils.widgets.text(\"SCALE\", \"default\")\n",
    "\n",
    "scale = dbutils.widgets.get(\"SCALE\")"
   ]
  },
  {
   "cell_type": "code",
   "execution_count": 0,
   "metadata": {
    "application/vnd.databricks.v1+cell": {
     "cellMetadata": {},
     "inputWidgets": {},
     "nuid": "93f9476f-eb2f-4076-8d5b-ef8f97114048",
     "showTitle": false,
     "tableResultSettingsMap": {},
     "title": ""
    }
   },
   "outputs": [],
   "source": [
    "# Parametrized COPY INTO wrapped in spark.sql()\n",
    "\n",
    "base_path = \"s3://clickhouse-datasets/h\"\n",
    "\n",
    "tables = [\n",
    "    \"nation\", \"region\", \"part\", \"supplier\",\n",
    "    \"partsupp\", \"customer\", \"orders\", \"lineitem\"\n",
    "]\n",
    "\n",
    "# set catalog/schema\n",
    "spark.sql(\"USE CATALOG workspace\")\n",
    "spark.sql(\"USE SCHEMA tpch100_db\")\n",
    "\n",
    "for t in tables:\n",
    "    sql = f\"\"\"\n",
    "    COPY INTO {t}\n",
    "    BY POSITION\n",
    "    FROM '{base_path}/{scale}/{t}.tbl'\n",
    "    FILEFORMAT = CSV\n",
    "    FORMAT_OPTIONS ('sep'='|')\n",
    "    \"\"\"\n",
    "    spark.sql(sql)"
   ]
  }
 ],
 "metadata": {
  "application/vnd.databricks.v1+notebook": {
   "computePreferences": null,
   "dashboards": [],
   "environmentMetadata": {
    "base_environment": "",
    "environment_version": "4"
   },
   "inputWidgetPreferences": null,
   "language": "python",
   "notebookMetadata": {
    "pythonIndentUnit": 4
   },
   "notebookName": "copy_ingest",
   "widgets": {}
  },
  "language_info": {
   "name": "python"
  }
 },
 "nbformat": 4,
 "nbformat_minor": 0
}
